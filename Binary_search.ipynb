{
 "cells": [
  {
   "cell_type": "code",
   "execution_count": null,
   "id": "7749a80f",
   "metadata": {},
   "outputs": [],
   "source": [
    "def binarySearchHelper(lst, elt, left, right):\n",
    "    n = len(lst)\n",
    "    if (left > right):\n",
    "        return None # Search region is empty -- let us bail since we cannot find the element elt in the list.\n",
    "    else: \n",
    "        # If elt exists in the list, it must be between left and right indices.\n",
    "        mid = (left + right)//2 # Note that // is integer division \n",
    "        if lst[mid] == elt: \n",
    "            return mid # BINGO -- we found it. Return its index signalling that we found it.\n",
    "        elif lst[mid] < elt: \n",
    "            # We search in the right part of the list\n",
    "            return binarySearchHelper(lst, elt, mid+1, right)\n",
    "        else: # lst[mid] > elt\n",
    "            # We search in the left part of the list.\n",
    "            return binarySearchHelper(lst, elt, left, mid-1)"
   ]
  },
  {
   "cell_type": "code",
   "execution_count": null,
   "id": "776afb36",
   "metadata": {},
   "outputs": [],
   "source": [
    "def binarySearch(lst, elt):\n",
    "    n = len(lst)\n",
    "    if (elt < lst[0] or elt > lst[n-1]):\n",
    "        return None\n",
    "    else: # Note: we will only get here if\n",
    "          # lst[0] <= elt <= lst[n-1]\n",
    "        return binarySearchHelper(lst, elt, 0, n-1)"
   ]
  },
  {
   "cell_type": "code",
   "execution_count": null,
   "id": "fc4e2dd2",
   "metadata": {},
   "outputs": [],
   "source": [
    "print(\"Searching for 9 in list [0,2,3,4,6,9,12]\")\n",
    "print(binarySearch([0,2,3,4,6,9,12], 9))\n",
    "\n",
    "print(\"Searching for 8 in list [1, 3, 4, 6, 8, 9,10, 11, 12, 15]\")\n",
    "print(binarySearch([1, 3, 4, 6, 8, 9,10, 11, 12, 15], 8))\n",
    "\n",
    "print(\"Searching for 5 in list [1, 3, 4, 6, 8, 9,10, 11, 12, 15]\")\n",
    "print(binarySearch([1, 3, 4, 6, 8, 9,10, 11, 12, 15], 5))\n",
    "\n",
    "print(\"Searching for 0 in list [0,2]\")\n",
    "print(binarySearch([0,2], 0))\n",
    "\n",
    "print(\"Searching for 1 in list [0,2]\")\n",
    "print(binarySearch([0,2], 1))\n",
    "\n",
    "print(\"Searching for 2 in list [0,2]\")\n",
    "print(binarySearch([0,2], 2))\n",
    "\n",
    "print(\"Searching for 1 in list [1]\")\n",
    "print(binarySearch([1], 1))\n",
    "\n",
    "print(\"Searching for 2 in list [1]\")\n",
    "print(binarySearch([1], 2))\n",
    "\n"
   ]
  }
 ],
 "metadata": {
  "kernelspec": {
   "display_name": "Python 3 (ipykernel)",
   "language": "python",
   "name": "python3"
  },
  "language_info": {
   "codemirror_mode": {
    "name": "ipython",
    "version": 3
   },
   "file_extension": ".py",
   "mimetype": "text/x-python",
   "name": "python",
   "nbconvert_exporter": "python",
   "pygments_lexer": "ipython3",
   "version": "3.9.7"
  }
 },
 "nbformat": 4,
 "nbformat_minor": 5
}
